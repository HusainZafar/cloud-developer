{
 "cells": [
  {
   "cell_type": "markdown",
   "metadata": {},
   "source": [
    "# Daily currency API"
   ]
  },
  {
   "cell_type": "code",
   "execution_count": 1,
   "metadata": {},
   "outputs": [],
   "source": [
    "import json\n",
    "import requests"
   ]
  },
  {
   "cell_type": "code",
   "execution_count": 2,
   "metadata": {},
   "outputs": [
    {
     "data": {
      "text/plain": [
       "True"
      ]
     },
     "execution_count": 2,
     "metadata": {},
     "output_type": "execute_result"
    }
   ],
   "source": [
    "# Get the latest rates\n",
    "base_url = \"https://api.exchangeratesapi.io/latest\"\n",
    "response = requests.get(base_url)\n",
    "response.ok"
   ]
  },
  {
   "cell_type": "code",
   "execution_count": 3,
   "metadata": {},
   "outputs": [
    {
     "data": {
      "text/plain": [
       "200"
      ]
     },
     "execution_count": 3,
     "metadata": {},
     "output_type": "execute_result"
    }
   ],
   "source": [
    "response.status_code"
   ]
  },
  {
   "cell_type": "code",
   "execution_count": 4,
   "metadata": {},
   "outputs": [
    {
     "data": {
      "text/plain": [
       "'{\"rates\":{\"CAD\":1.5265,\"HKD\":8.4259,\"ISK\":155.9,\"PHP\":54.939,\"DKK\":7.4657,\"HUF\":354.76,\"CZK\":26.909,\"AUD\":1.7444,\"RON\":4.833,\"SEK\":10.9455,\"IDR\":17243.21,\"INR\":82.9275,\"BRL\":5.5956,\"RUB\":80.69,\"HRK\":7.6175,\"JPY\":118.33,\"THB\":35.665,\"CHF\":1.0558,\"SGD\":1.5479,\"PLN\":4.5586,\"BGN\":1.9558,\"TRY\":7.3233,\"CNY\":7.6709,\"NOK\":11.2143,\"NZD\":1.8128,\"ZAR\":19.6383,\"USD\":1.0867,\"MXN\":26.0321,\"ILS\":3.8919,\"GBP\":0.87565,\"KRW\":1322.49,\"MYR\":4.7136},\"base\":\"EUR\",\"date\":\"2020-04-09\"}'"
      ]
     },
     "execution_count": 4,
     "metadata": {},
     "output_type": "execute_result"
    }
   ],
   "source": [
    "# string\n",
    "response.text"
   ]
  },
  {
   "cell_type": "code",
   "execution_count": 5,
   "metadata": {},
   "outputs": [
    {
     "data": {
      "text/plain": [
       "b'{\"rates\":{\"CAD\":1.5265,\"HKD\":8.4259,\"ISK\":155.9,\"PHP\":54.939,\"DKK\":7.4657,\"HUF\":354.76,\"CZK\":26.909,\"AUD\":1.7444,\"RON\":4.833,\"SEK\":10.9455,\"IDR\":17243.21,\"INR\":82.9275,\"BRL\":5.5956,\"RUB\":80.69,\"HRK\":7.6175,\"JPY\":118.33,\"THB\":35.665,\"CHF\":1.0558,\"SGD\":1.5479,\"PLN\":4.5586,\"BGN\":1.9558,\"TRY\":7.3233,\"CNY\":7.6709,\"NOK\":11.2143,\"NZD\":1.8128,\"ZAR\":19.6383,\"USD\":1.0867,\"MXN\":26.0321,\"ILS\":3.8919,\"GBP\":0.87565,\"KRW\":1322.49,\"MYR\":4.7136},\"base\":\"EUR\",\"date\":\"2020-04-09\"}'"
      ]
     },
     "execution_count": 5,
     "metadata": {},
     "output_type": "execute_result"
    }
   ],
   "source": [
    "# bytes\n",
    "response.content"
   ]
  },
  {
   "cell_type": "code",
   "execution_count": 6,
   "metadata": {},
   "outputs": [
    {
     "data": {
      "text/plain": [
       "dict_keys(['rates', 'base', 'date'])"
      ]
     },
     "execution_count": 6,
     "metadata": {},
     "output_type": "execute_result"
    }
   ],
   "source": [
    "# json\n",
    "response_data = response.json()\n",
    "response_data.keys()"
   ]
  },
  {
   "cell_type": "code",
   "execution_count": 7,
   "metadata": {},
   "outputs": [
    {
     "data": {
      "text/plain": [
       "{'CAD': 1.5265,\n",
       " 'HKD': 8.4259,\n",
       " 'ISK': 155.9,\n",
       " 'PHP': 54.939,\n",
       " 'DKK': 7.4657,\n",
       " 'HUF': 354.76,\n",
       " 'CZK': 26.909,\n",
       " 'AUD': 1.7444,\n",
       " 'RON': 4.833,\n",
       " 'SEK': 10.9455,\n",
       " 'IDR': 17243.21,\n",
       " 'INR': 82.9275,\n",
       " 'BRL': 5.5956,\n",
       " 'RUB': 80.69,\n",
       " 'HRK': 7.6175,\n",
       " 'JPY': 118.33,\n",
       " 'THB': 35.665,\n",
       " 'CHF': 1.0558,\n",
       " 'SGD': 1.5479,\n",
       " 'PLN': 4.5586,\n",
       " 'BGN': 1.9558,\n",
       " 'TRY': 7.3233,\n",
       " 'CNY': 7.6709,\n",
       " 'NOK': 11.2143,\n",
       " 'NZD': 1.8128,\n",
       " 'ZAR': 19.6383,\n",
       " 'USD': 1.0867,\n",
       " 'MXN': 26.0321,\n",
       " 'ILS': 3.8919,\n",
       " 'GBP': 0.87565,\n",
       " 'KRW': 1322.49,\n",
       " 'MYR': 4.7136}"
      ]
     },
     "execution_count": 7,
     "metadata": {},
     "output_type": "execute_result"
    }
   ],
   "source": [
    "response_data['rates']"
   ]
  },
  {
   "cell_type": "code",
   "execution_count": 8,
   "metadata": {},
   "outputs": [
    {
     "data": {
      "text/plain": [
       "'EUR'"
      ]
     },
     "execution_count": 8,
     "metadata": {},
     "output_type": "execute_result"
    }
   ],
   "source": [
    "response_data['base']"
   ]
  },
  {
   "cell_type": "code",
   "execution_count": 9,
   "metadata": {},
   "outputs": [
    {
     "data": {
      "text/plain": [
       "'2020-04-09'"
      ]
     },
     "execution_count": 9,
     "metadata": {},
     "output_type": "execute_result"
    }
   ],
   "source": [
    "response_data['date']"
   ]
  },
  {
   "cell_type": "markdown",
   "metadata": {},
   "source": [
    "# Get parameters"
   ]
  },
  {
   "cell_type": "code",
   "execution_count": 10,
   "metadata": {},
   "outputs": [
    {
     "data": {
      "text/plain": [
       "200"
      ]
     },
     "execution_count": 10,
     "metadata": {},
     "output_type": "execute_result"
    }
   ],
   "source": [
    "# Get select currencies\n",
    "param_url = base_url + '?symbols=USD,GBP'\n",
    "response = requests.get(param_url)\n",
    "response.status_code"
   ]
  },
  {
   "cell_type": "code",
   "execution_count": 11,
   "metadata": {},
   "outputs": [
    {
     "data": {
      "text/plain": [
       "{'rates': {'USD': 1.0867, 'GBP': 0.87565}, 'base': 'EUR', 'date': '2020-04-09'}"
      ]
     },
     "execution_count": 11,
     "metadata": {},
     "output_type": "execute_result"
    }
   ],
   "source": [
    "response_data = response.json()\n",
    "response_data"
   ]
  },
  {
   "cell_type": "code",
   "execution_count": 12,
   "metadata": {},
   "outputs": [
    {
     "data": {
      "text/plain": [
       "200"
      ]
     },
     "execution_count": 12,
     "metadata": {},
     "output_type": "execute_result"
    }
   ],
   "source": [
    "# change base\n",
    "param_url = base_url + \"?symbols=GBP&base=USD\"\n",
    "response = requests.get(param_url)\n",
    "response.status_code"
   ]
  },
  {
   "cell_type": "code",
   "execution_count": 13,
   "metadata": {},
   "outputs": [
    {
     "data": {
      "text/plain": [
       "{'rates': {'GBP': 0.805788166}, 'base': 'USD', 'date': '2020-04-09'}"
      ]
     },
     "execution_count": 13,
     "metadata": {},
     "output_type": "execute_result"
    }
   ],
   "source": [
    "response_data = response.json()\n",
    "response_data"
   ]
  },
  {
   "cell_type": "markdown",
   "metadata": {},
   "source": [
    "# Histotical data"
   ]
  },
  {
   "cell_type": "code",
   "execution_count": 14,
   "metadata": {},
   "outputs": [
    {
     "data": {
      "text/plain": [
       "'https://api.exchangeratesapi.io/2020-01-01'"
      ]
     },
     "execution_count": 14,
     "metadata": {},
     "output_type": "execute_result"
    }
   ],
   "source": [
    "base_url = \"https://api.exchangeratesapi.io\"\n",
    "date = \"2020-01-01\"\n",
    "historical_url = base_url + \"/\" + date\n",
    "historical_url"
   ]
  },
  {
   "cell_type": "code",
   "execution_count": 15,
   "metadata": {},
   "outputs": [
    {
     "data": {
      "text/plain": [
       "200"
      ]
     },
     "execution_count": 15,
     "metadata": {},
     "output_type": "execute_result"
    }
   ],
   "source": [
    "response = requests.get(historical_url)\n",
    "response.status_code"
   ]
  },
  {
   "cell_type": "code",
   "execution_count": 16,
   "metadata": {},
   "outputs": [
    {
     "name": "stdout",
     "output_type": "stream",
     "text": [
      "{\n",
      "    \"rates\": {\n",
      "        \"CAD\": 1.4598,\n",
      "        \"HKD\": 8.7473,\n",
      "        \"ISK\": 135.8,\n",
      "        \"PHP\": 56.9,\n",
      "        \"DKK\": 7.4715,\n",
      "        \"HUF\": 330.53,\n",
      "        \"CZK\": 25.408,\n",
      "        \"AUD\": 1.5995,\n",
      "        \"RON\": 4.783,\n",
      "        \"SEK\": 10.4468,\n",
      "        \"IDR\": 15595.6,\n",
      "        \"INR\": 80.187,\n",
      "        \"BRL\": 4.5157,\n",
      "        \"RUB\": 69.9563,\n",
      "        \"HRK\": 7.4395,\n",
      "        \"JPY\": 121.94,\n",
      "        \"THB\": 33.415,\n",
      "        \"CHF\": 1.0854,\n",
      "        \"SGD\": 1.5111,\n",
      "        \"PLN\": 4.2568,\n",
      "        \"BGN\": 1.9558,\n",
      "        \"TRY\": 6.6843,\n",
      "        \"CNY\": 7.8205,\n",
      "        \"NOK\": 9.8638,\n",
      "        \"NZD\": 1.6653,\n",
      "        \"ZAR\": 15.7773,\n",
      "        \"USD\": 1.1234,\n",
      "        \"MXN\": 21.2202,\n",
      "        \"ILS\": 3.8845,\n",
      "        \"GBP\": 0.8508,\n",
      "        \"KRW\": 1296.28,\n",
      "        \"MYR\": 4.5953\n",
      "    },\n",
      "    \"base\": \"EUR\",\n",
      "    \"date\": \"2019-12-31\"\n",
      "}\n"
     ]
    }
   ],
   "source": [
    "response_data = response.json()\n",
    "print(json.dumps(response_data, indent=4))"
   ]
  },
  {
   "cell_type": "code",
   "execution_count": 17,
   "metadata": {},
   "outputs": [
    {
     "data": {
      "text/plain": [
       "'https://api.exchangeratesapi.io/history?start_at=2020-01-01&end_at=2020-01-05&symbols=GBP'"
      ]
     },
     "execution_count": 17,
     "metadata": {},
     "output_type": "execute_result"
    }
   ],
   "source": [
    "# Time period\n",
    "date_start = '2020-01-01'\n",
    "date_end = '2020-01-05'\n",
    "time_period_url = base_url + '/history?start_at=' + date_start + \\\n",
    "                \"&end_at=\" + date_end + \"&symbols=GBP\"\n",
    "time_period_url"
   ]
  },
  {
   "cell_type": "code",
   "execution_count": 18,
   "metadata": {},
   "outputs": [
    {
     "data": {
      "text/plain": [
       "200"
      ]
     },
     "execution_count": 18,
     "metadata": {},
     "output_type": "execute_result"
    }
   ],
   "source": [
    "response = requests.get(time_period_url)\n",
    "response.status_code"
   ]
  },
  {
   "cell_type": "code",
   "execution_count": 19,
   "metadata": {},
   "outputs": [
    {
     "name": "stdout",
     "output_type": "stream",
     "text": [
      "{\n",
      "    \"base\": \"EUR\",\n",
      "    \"end_at\": \"2020-01-05\",\n",
      "    \"rates\": {\n",
      "        \"2020-01-02\": {\n",
      "            \"GBP\": 0.84828\n",
      "        },\n",
      "        \"2020-01-03\": {\n",
      "            \"GBP\": 0.85115\n",
      "        }\n",
      "    },\n",
      "    \"start_at\": \"2020-01-01\"\n",
      "}\n"
     ]
    }
   ],
   "source": [
    "response_data = response.json()\n",
    "print(json.dumps(response_data, indent=4, sort_keys=True))"
   ]
  },
  {
   "cell_type": "code",
   "execution_count": 20,
   "metadata": {},
   "outputs": [
    {
     "data": {
      "text/plain": [
       "400"
      ]
     },
     "execution_count": 20,
     "metadata": {},
     "output_type": "execute_result"
    }
   ],
   "source": [
    "invalid_url = base_url + \"/2019-13-01\"\n",
    "response = requests.get(invalid_url)\n",
    "response.status_code"
   ]
  },
  {
   "cell_type": "code",
   "execution_count": 21,
   "metadata": {},
   "outputs": [
    {
     "data": {
      "text/plain": [
       "{'error': \"time data '2019-13-01' does not match format '%Y-%m-%d'\"}"
      ]
     },
     "execution_count": 21,
     "metadata": {},
     "output_type": "execute_result"
    }
   ],
   "source": [
    "response.json()"
   ]
  },
  {
   "cell_type": "code",
   "execution_count": 22,
   "metadata": {},
   "outputs": [
    {
     "data": {
      "text/plain": [
       "(400, {'error': \"Base 'USB' is not supported.\"})"
      ]
     },
     "execution_count": 22,
     "metadata": {},
     "output_type": "execute_result"
    }
   ],
   "source": [
    "invalid_url = base_url + \"/2019-12-01?base=USB\"\n",
    "response = requests.get(invalid_url)\n",
    "response.status_code, response.json()"
   ]
  },
  {
   "cell_type": "code",
   "execution_count": 23,
   "metadata": {},
   "outputs": [
    {
     "data": {
      "text/plain": [
       "(400, {'error': \"Symbols 'WBP' are invalid for date 2019-12-01.\"})"
      ]
     },
     "execution_count": 23,
     "metadata": {},
     "output_type": "execute_result"
    }
   ],
   "source": [
    "invalid_url = base_url + \"/2019-12-01?symbols=WBP\"\n",
    "response = requests.get(invalid_url)\n",
    "response.status_code, response.json()"
   ]
  },
  {
   "cell_type": "markdown",
   "metadata": {},
   "source": [
    "# Currency converter"
   ]
  },
  {
   "cell_type": "code",
   "execution_count": 24,
   "metadata": {},
   "outputs": [
    {
     "name": "stdout",
     "output_type": "stream",
     "text": [
      "Enter Date ('yyyy-mm-dd' or 'latest'): 2009-07-03\n",
      "Convert from (currency): USD\n",
      "Convert to (currency): INR\n",
      "Quantity: 10\n",
      "\n",
      "10.0 USD is equal to 478.799343279 INR, based upon exchange rates on 2009-07-03\n"
     ]
    }
   ],
   "source": [
    "date = input(\"Enter Date ('yyyy-mm-dd' or 'latest'): \")\n",
    "base = input(\"Convert from (currency): \")\n",
    "curr = input(\"Convert to (currency): \")\n",
    "quan = float(input(\"Quantity: \".format(base)))\n",
    "\n",
    "url = base_url + \"/\" + date + \"?base=\" + base + \"&symbols=\" + curr\n",
    "response = requests.get(url)\n",
    "\n",
    "if(response.ok is False):\n",
    "    print(\"\\nError {}:\".format(response.status_code))\n",
    "    print(response.json()['error'])\n",
    "\n",
    "else:\n",
    "    data = response.json()\n",
    "    rate = data['rates'][curr]\n",
    "    \n",
    "    result = quan*rate\n",
    "    \n",
    "    print(\"\\n{0} {1} is equal to {2} {3}, based upon exchange rates on {4}\".format(quan,base,result,curr,data['date']))"
   ]
  }
 ],
 "metadata": {
  "kernelspec": {
   "display_name": "Python 3",
   "language": "python",
   "name": "python3"
  },
  "language_info": {
   "codemirror_mode": {
    "name": "ipython",
    "version": 3
   },
   "file_extension": ".py",
   "mimetype": "text/x-python",
   "name": "python",
   "nbconvert_exporter": "python",
   "pygments_lexer": "ipython3",
   "version": "3.6.9"
  }
 },
 "nbformat": 4,
 "nbformat_minor": 4
}
