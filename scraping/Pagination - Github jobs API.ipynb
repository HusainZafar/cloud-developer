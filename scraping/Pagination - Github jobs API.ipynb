{
 "cells": [
  {
   "cell_type": "code",
   "execution_count": 2,
   "metadata": {},
   "outputs": [],
   "source": [
    "import requests"
   ]
  },
  {
   "cell_type": "code",
   "execution_count": 1,
   "metadata": {},
   "outputs": [],
   "source": [
    "base_site = \"https://jobs.github.com/positions.json\""
   ]
  },
  {
   "cell_type": "code",
   "execution_count": 9,
   "metadata": {},
   "outputs": [
    {
     "data": {
      "text/plain": [
       "200"
      ]
     },
     "execution_count": 9,
     "metadata": {},
     "output_type": "execute_result"
    }
   ],
   "source": [
    "r = requests.get(base_site, params={\"description\":\"data science\", \"location\":\"LA\"})\n",
    "r.status_code"
   ]
  },
  {
   "cell_type": "code",
   "execution_count": 10,
   "metadata": {},
   "outputs": [
    {
     "data": {
      "text/plain": [
       "[{'id': 'd5955556-de1b-11e8-97e2-45ff61609ad8',\n",
       "  'type': 'Full Time',\n",
       "  'url': 'https://jobs.github.com/positions/d5955556-de1b-11e8-97e2-45ff61609ad8',\n",
       "  'created_at': 'Thu Nov 01 21:20:36 UTC 2018',\n",
       "  'company': 'PlayVS',\n",
       "  'company_url': 'http://www.playvs.com',\n",
       "  'location': 'Santa Monica, CA',\n",
       "  'title': 'Software Engineer, Full Stack',\n",
       "  'description': '<p>PlayVS is building the infrastructure and official platform for high school esports. We work with game publishers and high school governing bodies to build and operate sanctioned leagues across the country. Our software products tie everything together, creating the world’s first full-stack sports platform. PlayVS is headquartered in Santa Monica, CA and rapidly expanding.</p>\\n<p>As an engineer, you’ll be expected to do the normal tech startup duties including:</p>\\n<ul>\\n<li>\\n<p>Writing clean, easily-maintainable code. We’re extremely proud of our lack of technical debt and want to keep it that way.</p>\\n</li>\\n<li>\\n<p>Debugging, documentation, and unit testing. Everyone loves a smooth game day.</p>\\n</li>\\n<li>\\n<p>Have a natural knack for user experience and pixel-perfect design. You should know CSS like it’s the back of your hand, and be extremely comfortable building modern responsive web apps.</p>\\n</li>\\n<li>\\n<p>Being flexible about your day-to-day tasks. We do everything from tweaking marketing pages to building the real-time match-play systems and data pipelines. You will wear many hats here.</p>\\n</li>\\n<li>\\n<p>Improving our internal tooling and engineering process by contributing your knowledge and unique background.</p>\\n</li>\\n</ul>\\n<p>What we’re looking for:</p>\\n<ul>\\n<li>\\n<p>4+ years of technical experience</p>\\n</li>\\n<li>\\n<p>Interest in gaming or esports, though no prior experience is required\\nExperience using NodeJS or NoSQL data stores like Redis, RethinkDB or Mongo</p>\\n</li>\\n<li>\\n<p>Expert developing interfaces using ReactJS</p>\\n</li>\\n<li>\\n<p>Top-notch CSS skills</p>\\n</li>\\n<li>\\n<p>Comfortable working with WebSockets</p>\\n</li>\\n<li>\\n<p>Degree in Computer Science preferred</p>\\n</li>\\n</ul>\\n<p>At PlayVS, we put a heavy emphasis on inclusiveness, diversity, and most importantly, player experience. Our team is small, scrappy, and incredibly talented. The challenges we solve on a daily basis are exciting and relevant. This role is $110K+.  If you are driven by seeing the immediate impact that your code brings, you’ll fit right in here.</p>\\n',\n",
       "  'how_to_apply': '<p>Email us at <a href=\"mailto:careers@playvs.com\">careers@playvs.com</a></p>\\n',\n",
       "  'company_logo': 'https://jobs.github.com/rails/active_storage/blobs/eyJfcmFpbHMiOnsibWVzc2FnZSI6IkJBaHBBa2xXIiwiZXhwIjpudWxsLCJwdXIiOiJibG9iX2lkIn19--02900ed15126cfa0983ebd48ddba2b07539f4c62/7f3abee5-837b-49da-93f7-b44fbe23fc0a'},\n",
       " {'id': 'c65408fa-de19-11e8-844c-e31925c0b958',\n",
       "  'type': 'Full Time',\n",
       "  'url': 'https://jobs.github.com/positions/c65408fa-de19-11e8-844c-e31925c0b958',\n",
       "  'created_at': 'Thu Nov 01 21:06:30 UTC 2018',\n",
       "  'company': 'PlayVS',\n",
       "  'company_url': 'http://www.playvs.com',\n",
       "  'location': 'Santa Monica, CA',\n",
       "  'title': 'Software Engineer, Frontend ',\n",
       "  'description': '<p>PlayVS is building the infrastructure and official platform for high school esports. We work with game publishers and high school governing bodies to build and operate sanctioned leagues across the country. Our software products tie everything together, creating the world’s first full-stack sports platform. PlayVS is headquartered in Santa Monica, CA and rapidly expanding.</p>\\n<p>As an engineer, you’ll be expected to do the normal tech startup duties including:</p>\\n<ul>\\n<li>\\n<p>Writing clean, easily-maintainable code. We’re extremely proud of our lack of technical debt and want to keep it that way.</p>\\n</li>\\n<li>\\n<p>Debugging, documentation, and unit testing. Everyone loves a smooth game day.</p>\\n</li>\\n<li>\\n<p>Have a natural knack for user experience and pixel-perfect design. You should know CSS like it’s the back of your hand, and be extremely comfortable building modern responsive web apps.</p>\\n</li>\\n<li>\\n<p>Being flexible about your day-to-day tasks. We do everything from tweaking marketing pages to building the real-time match-play systems and data pipelines. You will wear many hats here.</p>\\n</li>\\n<li>\\n<p>Improving our internal tooling and engineering process by contributing your knowledge and unique background.</p>\\n</li>\\n</ul>\\n<p>What we’re looking for:</p>\\n<ul>\\n<li>\\n<p>4+ years of technical experience</p>\\n</li>\\n<li>\\n<p>Interest in gaming or esports</p>\\n</li>\\n<li>\\n<p>Expert developing interfaces using ReactJS</p>\\n</li>\\n<li>\\n<p>Top-notch CSS skills</p>\\n</li>\\n<li>\\n<p>Comfortable working with WebSockets</p>\\n</li>\\n<li>\\n<p>Degree in Computer Science preferred</p>\\n</li>\\n</ul>\\n<p>At PlayVS, we put a heavy emphasis on inclusiveness, diversity, and most importantly, player experience. Our team is small, scrappy, and incredibly talented. The challenges we solve on a daily basis are exciting and relevant.  This role is $90k+.  If you are driven by seeing the immediate impact that your code brings, you’ll fit right in here.\\n</p>\\n',\n",
       "  'how_to_apply': '<p>Email us at <a href=\"mailto:careers@playvs.com\">careers@playvs.com</a></p>\\n',\n",
       "  'company_logo': 'https://jobs.github.com/rails/active_storage/blobs/eyJfcmFpbHMiOnsibWVzc2FnZSI6IkJBaHBBa2RXIiwiZXhwIjpudWxsLCJwdXIiOiJibG9iX2lkIn19--c006ca2e3659381100d6f6de12d331553cce4e33/2f5dd3f9-319e-4b5e-ab32-093701b04d06'},\n",
       " {'id': '1ef41916-dd5f-11e8-98aa-d336cb7192b8',\n",
       "  'type': 'Full Time',\n",
       "  'url': 'https://jobs.github.com/positions/1ef41916-dd5f-11e8-98aa-d336cb7192b8',\n",
       "  'created_at': 'Wed Oct 31 22:54:08 UTC 2018',\n",
       "  'company': 'playvs-inc',\n",
       "  'company_url': None,\n",
       "  'location': 'Santa Monica, CA',\n",
       "  'title': 'Software Engineer, Backend',\n",
       "  'description': '<p>PlayVS is building the infrastructure and official platform for high school esports. We work with game publishers and high school governing bodies to build and operate sanctioned leagues across the country. Our software products tie everything together, creating the world’s first full-stack sports platform. PlayVS is headquartered in Santa Monica, CA and rapidly expanding.</p>\\n<p>As an engineer, you’ll be expected to do the normal tech startup duties including:</p>\\n<ul>\\n<li>\\n<p>Writing clean, easily-maintainable code. We’re extremely proud of our lack of technical debt and want to keep it that way.</p>\\n</li>\\n<li>\\n<p>Debugging, documentation, and unit testing. Everyone loves a smooth game day.</p>\\n</li>\\n<li>\\n<p>Building and integrating APIs</p>\\n</li>\\n<li>\\n<p>Being flexible about your day-to-day tasks. We do everything from tweaking marketing pages to building the real-time match-play systems and data pipelines.</p>\\n</li>\\n<li>\\n<p>Improving our internal tooling and engineering process by contributing your knowledge and unique background.</p>\\n</li>\\n</ul>\\n<p>What we’re looking for:</p>\\n<ul>\\n<li>\\n<p>4+ years of technical experience</p>\\n</li>\\n<li>\\n<p>Interest in gaming or esports</p>\\n</li>\\n<li>\\n<p>Experience using NodeJS or NoSQL data stores like Redis, RethinkDB or Mongo</p>\\n</li>\\n<li>\\n<p>Comfortable working with WebSockets</p>\\n</li>\\n<li>\\n<p>Degree in Computer Science preferred</p>\\n</li>\\n</ul>\\n<p>At PlayVS, we put a heavy emphasis on inclusiveness, diversity, and most importantly, player experience. Our team is small, scrappy, and incredibly talented. The challenges we solve on a daily basis are exciting and relevant. This role is 90k and up. If you are driven by seeing the immediate impact that your code brings, you’ll fit right in here.</p>\\n',\n",
       "  'how_to_apply': '<p>Please email us at <a href=\"mailto:careers@playvs.com\">careers@playvs.com</a></p>\\n',\n",
       "  'company_logo': 'https://jobs.github.com/rails/active_storage/blobs/eyJfcmFpbHMiOnsibWVzc2FnZSI6IkJBaHBBaXBXIiwiZXhwIjpudWxsLCJwdXIiOiJibG9iX2lkIn19--13c421e8ce9526b4489d8262c8e069636a4a6285/967eb69a-ee1a-490c-b2cc-8ea54070fc36'}]"
      ]
     },
     "execution_count": 10,
     "metadata": {},
     "output_type": "execute_result"
    }
   ],
   "source": [
    "r.json()"
   ]
  },
  {
   "cell_type": "code",
   "execution_count": 29,
   "metadata": {},
   "outputs": [
    {
     "data": {
      "text/plain": [
       "(200, 50)"
      ]
     },
     "execution_count": 29,
     "metadata": {},
     "output_type": "execute_result"
    }
   ],
   "source": [
    "# All jobs, First page\n",
    "r = requests.get(base_site)\n",
    "r.status_code, len(r.json())"
   ]
  },
  {
   "cell_type": "code",
   "execution_count": 30,
   "metadata": {},
   "outputs": [
    {
     "data": {
      "text/plain": [
       "(200, 50)"
      ]
     },
     "execution_count": 30,
     "metadata": {},
     "output_type": "execute_result"
    }
   ],
   "source": [
    "# Second page\n",
    "r = requests.get(base_site, params={\"page\":2})\n",
    "r.status_code, len(r.json())"
   ]
  },
  {
   "cell_type": "code",
   "execution_count": 31,
   "metadata": {},
   "outputs": [
    {
     "data": {
      "text/plain": [
       "(200, 0)"
      ]
     },
     "execution_count": 31,
     "metadata": {},
     "output_type": "execute_result"
    }
   ],
   "source": [
    "r = requests.get(base_site, params={\"page\":5})\n",
    "r.status_code, len(r.json())"
   ]
  },
  {
   "cell_type": "markdown",
   "metadata": {},
   "source": [
    "# Multiple pages"
   ]
  },
  {
   "cell_type": "code",
   "execution_count": 34,
   "metadata": {},
   "outputs": [
    {
     "data": {
      "text/plain": [
       "189"
      ]
     },
     "execution_count": 34,
     "metadata": {},
     "output_type": "execute_result"
    }
   ],
   "source": [
    "# get first 10 pages data\n",
    "results = []\n",
    "for i in range(10):\n",
    "    r = requests.get(base_site, params={\"page\":i+1})\n",
    "    if not r.json():\n",
    "        break\n",
    "    results.extend(r.json())\n",
    "len(results)"
   ]
  }
 ],
 "metadata": {
  "kernelspec": {
   "display_name": "Python 3",
   "language": "python",
   "name": "python3"
  },
  "language_info": {
   "codemirror_mode": {
    "name": "ipython",
    "version": 3
   },
   "file_extension": ".py",
   "mimetype": "text/x-python",
   "name": "python",
   "nbconvert_exporter": "python",
   "pygments_lexer": "ipython3",
   "version": "3.6.9"
  }
 },
 "nbformat": 4,
 "nbformat_minor": 4
}
